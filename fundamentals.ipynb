{
 "cells": [
  {
   "cell_type": "code",
   "execution_count": 2,
   "metadata": {},
   "outputs": [
    {
     "name": "stdout",
     "output_type": "stream",
     "text": [
      "2.0.1\n"
     ]
    }
   ],
   "source": [
    "import torch\n",
    "print(torch.__version__)"
   ]
  },
  {
   "attachments": {},
   "cell_type": "markdown",
   "metadata": {},
   "source": [
    "## Tensors"
   ]
  },
  {
   "attachments": {},
   "cell_type": "markdown",
   "metadata": {},
   "source": [
    "### Creating tensors"
   ]
  },
  {
   "cell_type": "code",
   "execution_count": 3,
   "metadata": {},
   "outputs": [
    {
     "data": {
      "text/plain": [
       "tensor(7)"
      ]
     },
     "execution_count": 3,
     "metadata": {},
     "output_type": "execute_result"
    }
   ],
   "source": [
    "scalar = torch.tensor(7)\n",
    "scalar"
   ]
  },
  {
   "cell_type": "code",
   "execution_count": 4,
   "metadata": {},
   "outputs": [
    {
     "data": {
      "text/plain": [
       "0"
      ]
     },
     "execution_count": 4,
     "metadata": {},
     "output_type": "execute_result"
    }
   ],
   "source": [
    "scalar.ndim"
   ]
  },
  {
   "cell_type": "code",
   "execution_count": 5,
   "metadata": {},
   "outputs": [
    {
     "data": {
      "text/plain": [
       "7"
      ]
     },
     "execution_count": 5,
     "metadata": {},
     "output_type": "execute_result"
    }
   ],
   "source": [
    "scalar.item()"
   ]
  },
  {
   "cell_type": "code",
   "execution_count": 6,
   "metadata": {},
   "outputs": [
    {
     "name": "stdout",
     "output_type": "stream",
     "text": [
      "vector:  tensor([1, 2, 3, 4]) \n",
      "ndim:  1 \n",
      "shape:  torch.Size([4])\n"
     ]
    }
   ],
   "source": [
    "vector = torch.tensor([1, 2, 3, 4])\n",
    "print(\"vector: \", vector, \"\\nndim: \", vector.ndim, \"\\nshape: \", vector.shape)"
   ]
  },
  {
   "cell_type": "code",
   "execution_count": 7,
   "metadata": {},
   "outputs": [
    {
     "name": "stdout",
     "output_type": "stream",
     "text": [
      "Matrix:  tensor([[ 1,  2],\n",
      "        [ 9, 10]]) \n",
      "Dimension:  2 \n",
      "Shape:  torch.Size([2, 2])\n"
     ]
    }
   ],
   "source": [
    "matrix = torch.tensor([[1, 2], [9, 10]])\n",
    "print(\"Matrix: \", matrix, \"\\nDimension: \", matrix.ndim, \"\\nShape: \", matrix.shape)"
   ]
  },
  {
   "cell_type": "code",
   "execution_count": 8,
   "metadata": {},
   "outputs": [
    {
     "name": "stdout",
     "output_type": "stream",
     "text": [
      "Tensor:  tensor([[[ 1,  2,  3],\n",
      "         [ 4,  5,  6]],\n",
      "\n",
      "        [[ 7,  8,  9],\n",
      "         [10, 11, 12]]]) \n",
      " Dimension:  3 \n",
      " Shape:  torch.Size([2, 2, 3])\n"
     ]
    }
   ],
   "source": [
    "tensor = torch.tensor([[[1, 2, 3], [4, 5, 6]], [[7, 8, 9], [10, 11, 12]]])\n",
    "print(\"Tensor: \", tensor, \"\\n Dimension: \", tensor.ndim, \"\\n Shape: \", tensor.shape)\n"
   ]
  },
  {
   "attachments": {},
   "cell_type": "markdown",
   "metadata": {},
   "source": [
    "## Random Tensors\n",
    "\n",
    "Needed for initialization of weights in neural networks"
   ]
  },
  {
   "cell_type": "code",
   "execution_count": 9,
   "metadata": {},
   "outputs": [
    {
     "name": "stdout",
     "output_type": "stream",
     "text": [
      "Random Tensor:  tensor([[[0.7505, 0.6709, 0.3263],\n",
      "         [0.4734, 0.6222, 0.9941],\n",
      "         [0.9950, 0.3688, 0.0681]],\n",
      "\n",
      "        [[0.5033, 0.6186, 0.5128],\n",
      "         [0.6268, 0.5221, 0.6751],\n",
      "         [0.0896, 0.4731, 0.7830]],\n",
      "\n",
      "        [[0.2730, 0.2532, 0.4285],\n",
      "         [0.9679, 0.4501, 0.9996],\n",
      "         [0.8308, 0.0059, 0.7266]]]) \n",
      " Dimension:  3 \n",
      " Shape:  torch.Size([3, 3, 3])\n"
     ]
    }
   ],
   "source": [
    "random_tensor = torch.rand(3, 3, 3)\n",
    "print(\"Random Tensor: \", random_tensor, \"\\n Dimension: \", random_tensor.ndim, \"\\n Shape: \", random_tensor.shape)"
   ]
  },
  {
   "cell_type": "code",
   "execution_count": 10,
   "metadata": {},
   "outputs": [
    {
     "name": "stdout",
     "output_type": "stream",
     "text": [
      "Random Image Tensor:  tensor([[[5.6605e-01, 1.9975e-01, 9.2985e-02],\n",
      "         [3.9671e-01, 1.1254e-01, 1.3358e-01],\n",
      "         [5.8193e-01, 9.4234e-01, 5.5391e-02],\n",
      "         ...,\n",
      "         [4.2774e-01, 7.6335e-01, 7.8217e-01],\n",
      "         [2.2612e-01, 1.9239e-01, 2.2320e-01],\n",
      "         [5.5931e-01, 3.1243e-01, 3.7185e-01]],\n",
      "\n",
      "        [[9.7981e-02, 6.2386e-01, 8.7803e-01],\n",
      "         [8.9053e-01, 9.2129e-01, 9.9839e-01],\n",
      "         [3.0498e-01, 2.4918e-01, 5.7168e-01],\n",
      "         ...,\n",
      "         [3.7173e-01, 2.2893e-01, 7.8920e-01],\n",
      "         [4.3715e-01, 6.6050e-01, 1.4411e-02],\n",
      "         [2.5710e-02, 4.1674e-01, 9.9625e-01]],\n",
      "\n",
      "        [[2.6025e-01, 1.8722e-01, 2.7636e-01],\n",
      "         [8.5328e-01, 8.4587e-01, 3.4849e-01],\n",
      "         [1.1674e-01, 7.7753e-02, 7.1434e-01],\n",
      "         ...,\n",
      "         [6.8690e-01, 1.1793e-01, 6.4569e-01],\n",
      "         [1.9211e-01, 8.4673e-01, 9.1186e-01],\n",
      "         [8.5368e-01, 4.5310e-02, 1.2512e-01]],\n",
      "\n",
      "        ...,\n",
      "\n",
      "        [[5.0829e-01, 1.4012e-01, 8.4750e-01],\n",
      "         [4.6310e-02, 4.6309e-01, 8.8202e-01],\n",
      "         [2.3127e-04, 5.8160e-01, 9.1939e-01],\n",
      "         ...,\n",
      "         [8.8210e-01, 2.0507e-01, 2.6709e-01],\n",
      "         [1.7118e-01, 4.3168e-01, 4.9718e-01],\n",
      "         [7.3953e-01, 6.3272e-01, 2.7360e-01]],\n",
      "\n",
      "        [[6.2933e-01, 8.1510e-01, 1.9256e-02],\n",
      "         [1.8901e-01, 2.8692e-01, 7.0029e-01],\n",
      "         [3.4768e-01, 4.9994e-01, 9.6540e-01],\n",
      "         ...,\n",
      "         [2.4054e-01, 5.1478e-01, 6.7209e-02],\n",
      "         [6.1141e-01, 5.2291e-01, 5.0046e-01],\n",
      "         [9.5731e-01, 9.4679e-01, 9.1139e-01]],\n",
      "\n",
      "        [[6.1127e-01, 2.8227e-01, 4.9239e-01],\n",
      "         [7.7438e-02, 6.9833e-01, 5.6477e-01],\n",
      "         [4.1772e-01, 3.3573e-01, 4.7844e-01],\n",
      "         ...,\n",
      "         [8.8457e-01, 4.2819e-01, 7.5905e-01],\n",
      "         [1.8583e-01, 8.6173e-01, 1.8506e-01],\n",
      "         [6.6556e-01, 1.1837e-01, 3.2210e-01]]]) \n",
      " Dimension:  3 \n",
      " Shape:  torch.Size([224, 224, 3])\n"
     ]
    }
   ],
   "source": [
    "rand_img_tensor = torch.rand(224, 224, 3) # height, width, color\n",
    "print(\"Random Image Tensor: \", rand_img_tensor, \"\\n Dimension: \", rand_img_tensor.ndim, \"\\n Shape: \", rand_img_tensor.shape)"
   ]
  },
  {
   "attachments": {},
   "cell_type": "markdown",
   "metadata": {},
   "source": [
    "## Zero and Ones Tensors"
   ]
  },
  {
   "cell_type": "code",
   "execution_count": 11,
   "metadata": {},
   "outputs": [
    {
     "name": "stdout",
     "output_type": "stream",
     "text": [
      "Ones:  tensor([[1., 1., 1.],\n",
      "        [1., 1., 1.],\n",
      "        [1., 1., 1.]]) \n",
      " Dimension:  2 \n",
      " Shape:  torch.Size([3, 3])\n",
      "Zeros:  tensor([[0., 0., 0.],\n",
      "        [0., 0., 0.],\n",
      "        [0., 0., 0.]]) \n",
      " Dimension:  2 \n",
      " Shape:  torch.Size([3, 3])\n"
     ]
    }
   ],
   "source": [
    "ones = torch.ones(3, 3)\n",
    "print(\"Ones: \", ones, \"\\n Dimension: \", ones.ndim, \"\\n Shape: \", ones.shape)\n",
    "\n",
    "zeros = torch.zeros(3, 3)\n",
    "print(\"Zeros: \", zeros, \"\\n Dimension: \", zeros.ndim, \"\\n Shape: \", zeros.shape)"
   ]
  },
  {
   "attachments": {},
   "cell_type": "markdown",
   "metadata": {},
   "source": [
    "## Range Tensors"
   ]
  },
  {
   "cell_type": "code",
   "execution_count": 12,
   "metadata": {},
   "outputs": [
    {
     "data": {
      "text/plain": [
       "tensor([0, 2, 4, 6, 8])"
      ]
     },
     "execution_count": 12,
     "metadata": {},
     "output_type": "execute_result"
    }
   ],
   "source": [
    "torch.arange(start=0, end=10, step=2)"
   ]
  },
  {
   "attachments": {},
   "cell_type": "markdown",
   "metadata": {},
   "source": [
    "## Tensor Manipulation"
   ]
  },
  {
   "cell_type": "code",
   "execution_count": 13,
   "metadata": {},
   "outputs": [
    {
     "data": {
      "text/plain": [
       "tensor([ 5, 10, 15])"
      ]
     },
     "execution_count": 13,
     "metadata": {},
     "output_type": "execute_result"
    }
   ],
   "source": [
    "tensor = torch.tensor([1, 2, 3])\n",
    "tensor *= 5\n",
    "tensor"
   ]
  },
  {
   "attachments": {},
   "cell_type": "markdown",
   "metadata": {},
   "source": [
    "### Element-wise operations"
   ]
  },
  {
   "cell_type": "code",
   "execution_count": 16,
   "metadata": {},
   "outputs": [
    {
     "data": {
      "text/plain": [
       "tensor([[ 5, 20, 45],\n",
       "        [20, 50, 90]])"
      ]
     },
     "execution_count": 16,
     "metadata": {},
     "output_type": "execute_result"
    }
   ],
   "source": [
    "matrix = torch.tensor([[1, 2, 3], [4, 5, 6]])\n",
    "matrix *= tensor\n",
    "matrix"
   ]
  },
  {
   "attachments": {},
   "cell_type": "markdown",
   "metadata": {},
   "source": [
    "### Matrix multiplication"
   ]
  },
  {
   "cell_type": "code",
   "execution_count": 20,
   "metadata": {},
   "outputs": [
    {
     "data": {
      "text/plain": [
       "tensor([[ 2450,  5150],\n",
       "        [ 5150, 11000]])"
      ]
     },
     "execution_count": 20,
     "metadata": {},
     "output_type": "execute_result"
    }
   ],
   "source": [
    "torch.matmul(matrix, matrix.T)"
   ]
  },
  {
   "attachments": {},
   "cell_type": "markdown",
   "metadata": {},
   "source": [
    "## Tensor Aggregation"
   ]
  },
  {
   "cell_type": "code",
   "execution_count": 21,
   "metadata": {},
   "outputs": [
    {
     "data": {
      "text/plain": [
       "torch.Size([2, 2, 3])"
      ]
     },
     "execution_count": 21,
     "metadata": {},
     "output_type": "execute_result"
    }
   ],
   "source": [
    "tensor = torch.tensor([[[1, 2, 3], [4, 5, 6]], [[7, 8, 9], [10, 11, 12]]])\n",
    "tensor.shape"
   ]
  },
  {
   "cell_type": "code",
   "execution_count": 24,
   "metadata": {},
   "outputs": [
    {
     "data": {
      "text/plain": [
       "(tensor(12), tensor(1))"
      ]
     },
     "execution_count": 24,
     "metadata": {},
     "output_type": "execute_result"
    }
   ],
   "source": [
    "tensor.max(), tensor.min()"
   ]
  },
  {
   "cell_type": "code",
   "execution_count": 27,
   "metadata": {},
   "outputs": [],
   "source": [
    "float_tensor = tensor.to(dtype=torch.float32)"
   ]
  },
  {
   "cell_type": "code",
   "execution_count": 29,
   "metadata": {},
   "outputs": [
    {
     "data": {
      "text/plain": [
       "(tensor(6.5000), tensor(3.6056))"
      ]
     },
     "execution_count": 29,
     "metadata": {},
     "output_type": "execute_result"
    }
   ],
   "source": [
    "float_tensor.mean(), float_tensor.std()"
   ]
  },
  {
   "cell_type": "code",
   "execution_count": 30,
   "metadata": {},
   "outputs": [
    {
     "data": {
      "text/plain": [
       "(tensor(0),\n",
       " tensor(11),\n",
       " tensor([[[0, 1, 2],\n",
       "          [0, 1, 2]],\n",
       " \n",
       "         [[0, 1, 2],\n",
       "          [0, 1, 2]]]))"
      ]
     },
     "execution_count": 30,
     "metadata": {},
     "output_type": "execute_result"
    }
   ],
   "source": [
    "tensor.argmin(), tensor.argmax()"
   ]
  },
  {
   "attachments": {},
   "cell_type": "markdown",
   "metadata": {},
   "source": [
    "## Reshaping, stacking, squeezing and unsqueezing tensors"
   ]
  },
  {
   "attachments": {},
   "cell_type": "markdown",
   "metadata": {},
   "source": [
    "reshape - change the shape of a tensor (number of elements stays the same)\n",
    "\n",
    "stacking - join a sequence of tensors along a new dimension\n",
    "\n",
    "squeezing - remove a dimension with length 1\n",
    "\n",
    "unsqueezing - add a dimension with length 1\n"
   ]
  },
  {
   "cell_type": "code",
   "execution_count": 37,
   "metadata": {},
   "outputs": [],
   "source": [
    "x = torch.arange(1.0, 11.0, 1)"
   ]
  },
  {
   "cell_type": "code",
   "execution_count": 38,
   "metadata": {},
   "outputs": [
    {
     "data": {
      "text/plain": [
       "tensor([[ 1.,  2.],\n",
       "        [ 3.,  4.],\n",
       "        [ 5.,  6.],\n",
       "        [ 7.,  8.],\n",
       "        [ 9., 10.]])"
      ]
     },
     "execution_count": 38,
     "metadata": {},
     "output_type": "execute_result"
    }
   ],
   "source": [
    "x_reshaped = x.reshape(5, 2)\n",
    "x_reshaped"
   ]
  },
  {
   "cell_type": "code",
   "execution_count": 44,
   "metadata": {},
   "outputs": [
    {
     "data": {
      "text/plain": [
       "tensor([[ 1.,  1.,  1.],\n",
       "        [ 2.,  2.,  2.],\n",
       "        [ 3.,  3.,  3.],\n",
       "        [ 4.,  4.,  4.],\n",
       "        [ 5.,  5.,  5.],\n",
       "        [ 6.,  6.,  6.],\n",
       "        [ 7.,  7.,  7.],\n",
       "        [ 8.,  8.,  8.],\n",
       "        [ 9.,  9.,  9.],\n",
       "        [10., 10., 10.]])"
      ]
     },
     "execution_count": 44,
     "metadata": {},
     "output_type": "execute_result"
    }
   ],
   "source": [
    "x_stacked = torch.stack([x, x, x], dim=1)\n",
    "x_stacked"
   ]
  },
  {
   "cell_type": "code",
   "execution_count": 45,
   "metadata": {},
   "outputs": [
    {
     "data": {
      "text/plain": [
       "tensor([[[0.9942, 0.0894, 0.7334]]])"
      ]
     },
     "execution_count": 45,
     "metadata": {},
     "output_type": "execute_result"
    }
   ],
   "source": [
    "x = torch.rand(1,1,3)\n",
    "x"
   ]
  },
  {
   "cell_type": "code",
   "execution_count": 46,
   "metadata": {},
   "outputs": [
    {
     "data": {
      "text/plain": [
       "tensor([0.9942, 0.0894, 0.7334])"
      ]
     },
     "execution_count": 46,
     "metadata": {},
     "output_type": "execute_result"
    }
   ],
   "source": [
    "x_sqeezed = x.squeeze()\n",
    "x_sqeezed"
   ]
  },
  {
   "cell_type": "code",
   "execution_count": 51,
   "metadata": {},
   "outputs": [
    {
     "data": {
      "text/plain": [
       "tensor([[0.9942, 0.0894, 0.7334]])"
      ]
     },
     "execution_count": 51,
     "metadata": {},
     "output_type": "execute_result"
    }
   ],
   "source": [
    "x_unsqeezed = x_sqeezed.unsqueeze(dim=0)\n",
    "x_unsqeezed"
   ]
  },
  {
   "cell_type": "code",
   "execution_count": 56,
   "metadata": {},
   "outputs": [
    {
     "data": {
      "text/plain": [
       "tensor([[[0.8066, 0.8050, 0.9923],\n",
       "         [0.7133, 0.3018, 0.1959],\n",
       "         [0.0554, 0.1894, 0.7721],\n",
       "         ...,\n",
       "         [0.4685, 0.4291, 0.6156],\n",
       "         [0.4242, 0.7929, 0.4063],\n",
       "         [0.2039, 0.4165, 0.1520]],\n",
       "\n",
       "        [[0.6067, 0.4839, 0.3060],\n",
       "         [0.3961, 0.2042, 0.6338],\n",
       "         [0.2026, 0.8040, 0.9762],\n",
       "         ...,\n",
       "         [0.1036, 0.8428, 0.3450],\n",
       "         [0.5016, 0.7886, 0.3189],\n",
       "         [0.2864, 0.4448, 0.7672]],\n",
       "\n",
       "        [[0.4432, 0.1089, 0.2597],\n",
       "         [0.1809, 0.4124, 0.9989],\n",
       "         [0.2772, 0.8246, 0.5829],\n",
       "         ...,\n",
       "         [0.8374, 0.9619, 0.8303],\n",
       "         [0.9816, 0.6584, 0.6713],\n",
       "         [0.2438, 0.9184, 0.2153]],\n",
       "\n",
       "        ...,\n",
       "\n",
       "        [[0.5670, 0.4340, 0.8811],\n",
       "         [0.5608, 0.6164, 0.2160],\n",
       "         [0.2015, 0.0413, 0.8299],\n",
       "         ...,\n",
       "         [0.9115, 0.5703, 0.4859],\n",
       "         [0.3465, 0.7428, 0.2214],\n",
       "         [0.8578, 0.1080, 0.8657]],\n",
       "\n",
       "        [[0.4720, 0.5054, 0.5255],\n",
       "         [0.4352, 0.3813, 0.1708],\n",
       "         [0.5599, 0.4640, 0.8427],\n",
       "         ...,\n",
       "         [0.5427, 0.6791, 0.4838],\n",
       "         [0.9612, 0.3641, 0.7232],\n",
       "         [0.7972, 0.0171, 0.7279]],\n",
       "\n",
       "        [[0.7108, 0.4749, 0.3718],\n",
       "         [0.1471, 0.5409, 0.0709],\n",
       "         [0.9807, 0.8994, 0.7180],\n",
       "         ...,\n",
       "         [0.2510, 0.1332, 0.9092],\n",
       "         [0.9707, 0.3073, 0.5744],\n",
       "         [0.3026, 0.4852, 0.7069]]])"
      ]
     },
     "execution_count": 56,
     "metadata": {},
     "output_type": "execute_result"
    }
   ],
   "source": [
    "x = torch.rand(224, 224, 3)\n",
    "x"
   ]
  },
  {
   "cell_type": "code",
   "execution_count": 57,
   "metadata": {},
   "outputs": [
    {
     "data": {
      "text/plain": [
       "tensor([[[0.8066, 0.8050, 0.9923],\n",
       "         [0.7133, 0.3018, 0.1959],\n",
       "         [0.0554, 0.1894, 0.7721],\n",
       "         ...,\n",
       "         [0.4685, 0.4291, 0.6156],\n",
       "         [0.4242, 0.7929, 0.4063],\n",
       "         [0.2039, 0.4165, 0.1520]],\n",
       "\n",
       "        [[0.6067, 0.4839, 0.3060],\n",
       "         [0.3961, 0.2042, 0.6338],\n",
       "         [0.2026, 0.8040, 0.9762],\n",
       "         ...,\n",
       "         [0.1036, 0.8428, 0.3450],\n",
       "         [0.5016, 0.7886, 0.3189],\n",
       "         [0.2864, 0.4448, 0.7672]],\n",
       "\n",
       "        [[0.4432, 0.1089, 0.2597],\n",
       "         [0.1809, 0.4124, 0.9989],\n",
       "         [0.2772, 0.8246, 0.5829],\n",
       "         ...,\n",
       "         [0.8374, 0.9619, 0.8303],\n",
       "         [0.9816, 0.6584, 0.6713],\n",
       "         [0.2438, 0.9184, 0.2153]],\n",
       "\n",
       "        ...,\n",
       "\n",
       "        [[0.5670, 0.4340, 0.8811],\n",
       "         [0.5608, 0.6164, 0.2160],\n",
       "         [0.2015, 0.0413, 0.8299],\n",
       "         ...,\n",
       "         [0.9115, 0.5703, 0.4859],\n",
       "         [0.3465, 0.7428, 0.2214],\n",
       "         [0.8578, 0.1080, 0.8657]],\n",
       "\n",
       "        [[0.4720, 0.5054, 0.5255],\n",
       "         [0.4352, 0.3813, 0.1708],\n",
       "         [0.5599, 0.4640, 0.8427],\n",
       "         ...,\n",
       "         [0.5427, 0.6791, 0.4838],\n",
       "         [0.9612, 0.3641, 0.7232],\n",
       "         [0.7972, 0.0171, 0.7279]],\n",
       "\n",
       "        [[0.7108, 0.4749, 0.3718],\n",
       "         [0.1471, 0.5409, 0.0709],\n",
       "         [0.9807, 0.8994, 0.7180],\n",
       "         ...,\n",
       "         [0.2510, 0.1332, 0.9092],\n",
       "         [0.9707, 0.3073, 0.5744],\n",
       "         [0.3026, 0.4852, 0.7069]]])"
      ]
     },
     "execution_count": 57,
     "metadata": {},
     "output_type": "execute_result"
    }
   ],
   "source": [
    "x_permuted = x.permute(2, 0, 1)\n",
    "x"
   ]
  },
  {
   "attachments": {},
   "cell_type": "markdown",
   "metadata": {},
   "source": [
    "## NumPy and PyTorch interoperability"
   ]
  },
  {
   "cell_type": "code",
   "execution_count": 59,
   "metadata": {},
   "outputs": [
    {
     "data": {
      "text/plain": [
       "(array([[0, 1],\n",
       "        [2, 3],\n",
       "        [4, 5],\n",
       "        [6, 7],\n",
       "        [8, 9]]),\n",
       " tensor([[0, 1],\n",
       "         [2, 3],\n",
       "         [4, 5],\n",
       "         [6, 7],\n",
       "         [8, 9]]))"
      ]
     },
     "execution_count": 59,
     "metadata": {},
     "output_type": "execute_result"
    }
   ],
   "source": [
    "import numpy as np\n",
    "np_array = np.arange(0, 10, 1).reshape(5, 2)\n",
    "tensor = torch.from_numpy(np_array)\n",
    "np_array, tensor"
   ]
  },
  {
   "cell_type": "code",
   "execution_count": null,
   "metadata": {},
   "outputs": [],
   "source": []
  }
 ],
 "metadata": {
  "kernelspec": {
   "display_name": "venv",
   "language": "python",
   "name": "python3"
  },
  "language_info": {
   "codemirror_mode": {
    "name": "ipython",
    "version": 3
   },
   "file_extension": ".py",
   "mimetype": "text/x-python",
   "name": "python",
   "nbconvert_exporter": "python",
   "pygments_lexer": "ipython3",
   "version": "3.11.1"
  },
  "orig_nbformat": 4
 },
 "nbformat": 4,
 "nbformat_minor": 2
}
