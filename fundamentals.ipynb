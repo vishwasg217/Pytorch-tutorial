{
 "cells": [
  {
   "cell_type": "code",
   "execution_count": 9,
   "metadata": {},
   "outputs": [
    {
     "name": "stdout",
     "output_type": "stream",
     "text": [
      "2.0.1\n"
     ]
    }
   ],
   "source": [
    "import torch\n",
    "print(torch.__version__)"
   ]
  },
  {
   "attachments": {},
   "cell_type": "markdown",
   "metadata": {},
   "source": [
    "## Tensors"
   ]
  },
  {
   "attachments": {},
   "cell_type": "markdown",
   "metadata": {},
   "source": [
    "### Creating tensors"
   ]
  },
  {
   "cell_type": "code",
   "execution_count": 10,
   "metadata": {},
   "outputs": [
    {
     "data": {
      "text/plain": [
       "tensor(7)"
      ]
     },
     "execution_count": 10,
     "metadata": {},
     "output_type": "execute_result"
    }
   ],
   "source": [
    "scalar = torch.tensor(7)\n",
    "scalar"
   ]
  },
  {
   "cell_type": "code",
   "execution_count": 11,
   "metadata": {},
   "outputs": [
    {
     "data": {
      "text/plain": [
       "0"
      ]
     },
     "execution_count": 11,
     "metadata": {},
     "output_type": "execute_result"
    }
   ],
   "source": [
    "scalar.ndim"
   ]
  },
  {
   "cell_type": "code",
   "execution_count": 12,
   "metadata": {},
   "outputs": [
    {
     "data": {
      "text/plain": [
       "7"
      ]
     },
     "execution_count": 12,
     "metadata": {},
     "output_type": "execute_result"
    }
   ],
   "source": [
    "scalar.item()"
   ]
  },
  {
   "cell_type": "code",
   "execution_count": 13,
   "metadata": {},
   "outputs": [
    {
     "name": "stdout",
     "output_type": "stream",
     "text": [
      "vector:  tensor([1, 2, 3, 4]) \n",
      "ndim:  1 \n",
      "shape:  torch.Size([4])\n"
     ]
    }
   ],
   "source": [
    "vector = torch.tensor([1, 2, 3, 4])\n",
    "print(\"vector: \", vector, \"\\nndim: \", vector.ndim, \"\\nshape: \", vector.shape)"
   ]
  },
  {
   "cell_type": "code",
   "execution_count": 14,
   "metadata": {},
   "outputs": [
    {
     "name": "stdout",
     "output_type": "stream",
     "text": [
      "Matrix:  tensor([[ 1,  2],\n",
      "        [ 9, 10]]) \n",
      "Dimension:  2 \n",
      "Shape:  torch.Size([2, 2])\n"
     ]
    }
   ],
   "source": [
    "matrix = torch.tensor([[1, 2], [9, 10]])\n",
    "print(\"Matrix: \", matrix, \"\\nDimension: \", matrix.ndim, \"\\nShape: \", matrix.shape)"
   ]
  },
  {
   "cell_type": "code",
   "execution_count": 15,
   "metadata": {},
   "outputs": [
    {
     "name": "stdout",
     "output_type": "stream",
     "text": [
      "Tensor:  tensor([[[ 1,  2,  3],\n",
      "         [ 4,  5,  6]],\n",
      "\n",
      "        [[ 7,  8,  9],\n",
      "         [10, 11, 12]]]) \n",
      " Dimension:  3 \n",
      " Shape:  torch.Size([2, 2, 3])\n"
     ]
    }
   ],
   "source": [
    "tensor = torch.tensor([[[1, 2, 3], [4, 5, 6]], [[7, 8, 9], [10, 11, 12]]])\n",
    "print(\"Tensor: \", tensor, \"\\n Dimension: \", tensor.ndim, \"\\n Shape: \", tensor.shape)\n"
   ]
  },
  {
   "attachments": {},
   "cell_type": "markdown",
   "metadata": {},
   "source": [
    "## Random Tensors\n",
    "\n",
    "Needed for initialization of weights in neural networks"
   ]
  },
  {
   "cell_type": "code",
   "execution_count": 20,
   "metadata": {},
   "outputs": [
    {
     "name": "stdout",
     "output_type": "stream",
     "text": [
      "Random Tensor:  tensor([[[0.9015, 0.1205, 0.9437],\n",
      "         [0.0997, 0.5370, 0.6077],\n",
      "         [0.4280, 0.5515, 0.4730]],\n",
      "\n",
      "        [[0.5588, 0.8432, 0.4666],\n",
      "         [0.7920, 0.6200, 0.7757],\n",
      "         [0.0190, 0.9565, 0.9359]],\n",
      "\n",
      "        [[0.7421, 0.2507, 0.7633],\n",
      "         [0.9907, 0.5545, 0.9928],\n",
      "         [0.8227, 0.1336, 0.8116]]]) \n",
      " Dimension:  3 \n",
      " Shape:  torch.Size([3, 3, 3])\n"
     ]
    }
   ],
   "source": [
    "random_tensor = torch.rand(3, 3, 3)\n",
    "print(\"Random Tensor: \", random_tensor, \"\\n Dimension: \", random_tensor.ndim, \"\\n Shape: \", random_tensor.shape)"
   ]
  },
  {
   "cell_type": "code",
   "execution_count": 22,
   "metadata": {},
   "outputs": [
    {
     "name": "stdout",
     "output_type": "stream",
     "text": [
      "Random Image Tensor:  tensor([[[0.0588, 0.7611, 0.2641],\n",
      "         [0.0024, 0.8069, 0.3671],\n",
      "         [0.8030, 0.5729, 0.2652],\n",
      "         ...,\n",
      "         [0.7455, 0.3386, 0.7238],\n",
      "         [0.0648, 0.5347, 0.6756],\n",
      "         [0.5065, 0.9764, 0.5731]],\n",
      "\n",
      "        [[0.6146, 0.1310, 0.3677],\n",
      "         [0.5296, 0.6897, 0.6746],\n",
      "         [0.5347, 0.4055, 0.2914],\n",
      "         ...,\n",
      "         [0.7607, 0.8194, 0.2605],\n",
      "         [0.0139, 0.9597, 0.4104],\n",
      "         [0.4174, 0.7878, 0.4769]],\n",
      "\n",
      "        [[0.2603, 0.5025, 0.8049],\n",
      "         [0.2507, 0.0588, 0.6359],\n",
      "         [0.2308, 0.8005, 0.9532],\n",
      "         ...,\n",
      "         [0.3639, 0.5086, 0.1231],\n",
      "         [0.4921, 0.2777, 0.4517],\n",
      "         [0.1265, 0.2152, 0.8702]],\n",
      "\n",
      "        ...,\n",
      "\n",
      "        [[0.4208, 0.0504, 0.1590],\n",
      "         [0.3261, 0.8939, 0.2116],\n",
      "         [0.2515, 0.5688, 0.2423],\n",
      "         ...,\n",
      "         [0.2314, 0.0431, 0.1863],\n",
      "         [0.7225, 0.5693, 0.4663],\n",
      "         [0.6593, 0.0287, 0.5073]],\n",
      "\n",
      "        [[0.4711, 0.7707, 0.6815],\n",
      "         [0.4625, 0.6765, 0.8687],\n",
      "         [0.5215, 0.3600, 0.5439],\n",
      "         ...,\n",
      "         [0.3315, 0.6551, 0.0879],\n",
      "         [0.5610, 0.0754, 0.9365],\n",
      "         [0.2294, 0.2535, 0.9763]],\n",
      "\n",
      "        [[0.3762, 0.7843, 0.4115],\n",
      "         [0.5397, 0.7860, 0.7030],\n",
      "         [0.4542, 0.5708, 0.3064],\n",
      "         ...,\n",
      "         [0.8033, 0.0808, 0.4894],\n",
      "         [0.2362, 0.5082, 0.1826],\n",
      "         [0.4071, 0.7648, 0.7295]]]) \n",
      " Dimension:  3 \n",
      " Shape:  torch.Size([224, 224, 3])\n"
     ]
    }
   ],
   "source": [
    "rand_img_tensor = torch.rand(224, 224, 3) # height, width, color\n",
    "print(\"Random Image Tensor: \", rand_img_tensor, \"\\n Dimension: \", rand_img_tensor.ndim, \"\\n Shape: \", rand_img_tensor.shape)"
   ]
  },
  {
   "attachments": {},
   "cell_type": "markdown",
   "metadata": {},
   "source": [
    "## Zero and Ones Tensors"
   ]
  },
  {
   "cell_type": "code",
   "execution_count": 23,
   "metadata": {},
   "outputs": [
    {
     "name": "stdout",
     "output_type": "stream",
     "text": [
      "Ones:  tensor([[1., 1., 1.],\n",
      "        [1., 1., 1.],\n",
      "        [1., 1., 1.]]) \n",
      " Dimension:  2 \n",
      " Shape:  torch.Size([3, 3])\n",
      "Zeros:  tensor([[0., 0., 0.],\n",
      "        [0., 0., 0.],\n",
      "        [0., 0., 0.]]) \n",
      " Dimension:  2 \n",
      " Shape:  torch.Size([3, 3])\n"
     ]
    }
   ],
   "source": [
    "ones = torch.ones(3, 3)\n",
    "print(\"Ones: \", ones, \"\\n Dimension: \", ones.ndim, \"\\n Shape: \", ones.shape)\n",
    "\n",
    "zeros = torch.zeros(3, 3)\n",
    "print(\"Zeros: \", zeros, \"\\n Dimension: \", zeros.ndim, \"\\n Shape: \", zeros.shape)"
   ]
  },
  {
   "attachments": {},
   "cell_type": "markdown",
   "metadata": {},
   "source": [
    "## Range Tensors"
   ]
  },
  {
   "cell_type": "code",
   "execution_count": 24,
   "metadata": {},
   "outputs": [
    {
     "data": {
      "text/plain": [
       "tensor([0, 2, 4, 6, 8])"
      ]
     },
     "execution_count": 24,
     "metadata": {},
     "output_type": "execute_result"
    }
   ],
   "source": [
    "torch.arange(start=0, end=10, step=2)"
   ]
  },
  {
   "cell_type": "code",
   "execution_count": null,
   "metadata": {},
   "outputs": [],
   "source": []
  }
 ],
 "metadata": {
  "kernelspec": {
   "display_name": "venv",
   "language": "python",
   "name": "python3"
  },
  "language_info": {
   "codemirror_mode": {
    "name": "ipython",
    "version": 3
   },
   "file_extension": ".py",
   "mimetype": "text/x-python",
   "name": "python",
   "nbconvert_exporter": "python",
   "pygments_lexer": "ipython3",
   "version": "3.11.1"
  },
  "orig_nbformat": 4
 },
 "nbformat": 4,
 "nbformat_minor": 2
}
